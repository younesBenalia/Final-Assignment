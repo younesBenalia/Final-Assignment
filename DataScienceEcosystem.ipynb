{
 "cells": [
  {
   "cell_type": "markdown",
   "id": "fecf8909-aac5-4c6a-92f4-8fef5193cbd0",
   "metadata": {},
   "source": [
    "# Data Science Tools and Ecosystem"
   ]
  },
  {
   "cell_type": "markdown",
   "id": "9ecad466-3bba-4a85-b64b-08a2635a9443",
   "metadata": {},
   "source": [
    "In this notebook, Data Science Tools and Ecosystem are summarized."
   ]
  },
  {
   "cell_type": "markdown",
   "id": "70837524-1d11-4bd3-a8fe-a27b0d385f84",
   "metadata": {},
   "source": [
    "**Objectives:**\n",
    "- List popular open-source tools used in data science.\n",
    "- List popular languages for Data Science.\n",
    "- List the tasks that a data scientist needs to perform to build a model​.\n",
    "- List the various libraries: scientific, visualization, machine learning, and deep learning.\n",
    "- Demonstrate proficiency in Data Science toolkit knowledge.\n"
   ]
  },
  {
   "cell_type": "markdown",
   "id": "8c47535c-9965-4577-924a-42ecad132215",
   "metadata": {},
   "source": [
    "Some of the popular languages that Data Scientists use are:\n",
    "1. Python.\n",
    "2. R.\n",
    "3. Julia.\n",
    "4. Java.\n",
    "5. Scala."
   ]
  },
  {
   "cell_type": "markdown",
   "id": "551ed499-30d7-4636-aae1-20570749df8e",
   "metadata": {},
   "source": [
    "Some of the commonly used libraries used by Data Scientists include:\n",
    "1. TensorFlow.\n",
    "2. NumPy.\n",
    "3. SciPy.\n",
    "4. Pandas.\n",
    "5. Matplotlib.\n",
    "6. Keras.\n",
    "7. SciKit-Learn.\n",
    "8. PyTorch."
   ]
  },
  {
   "cell_type": "markdown",
   "id": "684f1005-2d6d-49c9-a9e5-bd7af03c0a17",
   "metadata": {},
   "source": [
    "|Data Science Tools|\n",
    "|-------|\n",
    "|Jupyter Notebooks|\n",
    "|R Studio|\n",
    "|Apache Zeppelin|"
   ]
  },
  {
   "cell_type": "markdown",
   "id": "52a0d019-66c6-419a-a68e-b8f5e6e5da47",
   "metadata": {},
   "source": [
    "### Below are a few examples of evaluating arithmetic expressions in Python"
   ]
  },
  {
   "cell_type": "code",
   "execution_count": 7,
   "id": "f3269b78-48a9-485c-bdf1-7a2837291f1f",
   "metadata": {},
   "outputs": [
    {
     "data": {
      "text/plain": [
       "17"
      ]
     },
     "execution_count": 7,
     "metadata": {},
     "output_type": "execute_result"
    }
   ],
   "source": [
    "# This a simple arithmetic expression to multiply and then add integers\n",
    "(3*4)+5"
   ]
  },
  {
   "cell_type": "code",
   "execution_count": 8,
   "id": "b443cc60-9769-45e0-a133-90f3803c73ab",
   "metadata": {},
   "outputs": [
    {
     "name": "stdout",
     "output_type": "stream",
     "text": [
      "3.3333333333333335 hours\n"
     ]
    }
   ],
   "source": [
    "# This will convert 200 minutes to hours by diving by 60\n",
    "minutes=200\n",
    "hours= minutes/60\n",
    "print(hours,\"hours\")"
   ]
  },
  {
   "cell_type": "markdown",
   "id": "6bb90b68-d3f0-40cc-916e-e3423690e84f",
   "metadata": {},
   "source": [
    "## Author\n",
    "Benalia Younes\n"
   ]
  }
 ],
 "metadata": {
  "kernelspec": {
   "display_name": "Python 3 (ipykernel)",
   "language": "python",
   "name": "python3"
  },
  "language_info": {
   "codemirror_mode": {
    "name": "ipython",
    "version": 3
   },
   "file_extension": ".py",
   "mimetype": "text/x-python",
   "name": "python",
   "nbconvert_exporter": "python",
   "pygments_lexer": "ipython3",
   "version": "3.11.7"
  }
 },
 "nbformat": 4,
 "nbformat_minor": 5
}
